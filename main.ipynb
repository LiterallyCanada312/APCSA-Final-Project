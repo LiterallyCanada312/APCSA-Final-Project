{
 "cells": [
  {
   "cell_type": "code",
   "execution_count": 1,
   "metadata": {},
   "outputs": [],
   "source": [
    "from ultralytics import YOLO\n",
    "import serial \n",
    "import torch\n",
    "import cv2\n",
    "import os\n",
    "import io"
   ]
  },
  {
   "cell_type": "code",
   "execution_count": 2,
   "metadata": {},
   "outputs": [],
   "source": [
    "model = YOLO(\"best.pt\")"
   ]
  },
  {
   "cell_type": "code",
   "execution_count": null,
   "metadata": {},
   "outputs": [],
   "source": [
    "cap = cv2.VideoCapture(0)\n",
    "cap.set(3, 640)\n",
    "cap.set(4, 480)\n",
    "\n",
    "#ser = serial.Serial()\n",
    "#ser.baudrate = 9600\n",
    "#ser.port = 'COM5'\n",
    "#ser.open()\n",
    "\n",
    "while True:\n",
    "    _, img = cap.read() \n",
    "\n",
    "\n",
    "    #computes prediction\n",
    "    results = model(img, verbose=False, conf=0.7)\n",
    "\n",
    "    for r in results:\n",
    "        coords=r.boxes.xyxy\n",
    "        if(coords.size(dim=0) !=0):\n",
    "            #all coordinates are normalized between 0-1\n",
    "            xmid = int((coords[0][0] + coords[0][2])/2)/640.0\n",
    "            if abs(xmid-0.5) < 0.01:\n",
    "                print(\"CENTER\")\n",
    "            elif xmid + 0.01 > 0.5 or xmid - 0.01 > 0.5:\n",
    "                print(\"RIGHT\")\n",
    "                #ser.write(\"LEFT\")\n",
    "            elif xmid + 0.01 < 0.5 or xmid - 0.01 < 0.5 :\n",
    "                print(\"LEFT\") \n",
    "                #ser.write(\"RIGHT\")\n",
    "            ymid = int((coords[0][1] + coords[0][3])/2)/480.0\n",
    "            print(xmid)\n",
    "\n",
    "\n",
    "\n",
    "\n",
    "\n",
    "    cv2.imshow(\"test\",img)\n",
    "    if cv2.waitKey(1) & 0xFF == ord('q'):\n",
    "        break\n",
    "\n",
    "cap.release()\n",
    "cv2.destroyAllWindows()"
   ]
  },
  {
   "cell_type": "code",
   "execution_count": 8,
   "metadata": {},
   "outputs": [
    {
     "name": "stdout",
     "output_type": "stream",
     "text": [
      "1/1: 0... Success  (inf frames of shape 640x480 at 30.00 FPS)\n",
      "\n",
      "\n",
      "WARNING  inference results will accumulate in RAM unless `stream=True` is passed, causing potential out-of-memory\n",
      "errors for large sources or long-running streams and videos. See https://docs.ultralytics.com/modes/predict/ for help.\n",
      "\n",
      "Example:\n",
      "    results = model(source=..., stream=True)  # generator of Results objects\n",
      "    for r in results:\n",
      "        boxes = r.boxes  # Boxes object for bbox outputs\n",
      "        masks = r.masks  # Masks object for segment masks outputs\n",
      "        probs = r.probs  # Class probabilities for classification outputs\n",
      "\n"
     ]
    },
    {
     "ename": "",
     "evalue": "",
     "output_type": "error",
     "traceback": [
      "\u001b[1;31mThe Kernel crashed while executing code in the current cell or a previous cell. \n",
      "\u001b[1;31mPlease review the code in the cell(s) to identify a possible cause of the failure. \n",
      "\u001b[1;31mClick <a href='https://aka.ms/vscodeJupyterKernelCrash'>here</a> for more info. \n",
      "\u001b[1;31mView Jupyter <a href='command:jupyter.viewOutput'>log</a> for further details."
     ]
    }
   ],
   "source": [
    "model(source=0, conf=0.6,show=True,save=False)"
   ]
  }
 ],
 "metadata": {
  "kernelspec": {
   "display_name": "\"Python/Mu (mu_venv-38-20240310-133533)\"",
   "language": "python",
   "name": "mu_venv-38-20240310-133533"
  },
  "language_info": {
   "codemirror_mode": {
    "name": "ipython",
    "version": 3
   },
   "file_extension": ".py",
   "mimetype": "text/x-python",
   "name": "python",
   "nbconvert_exporter": "python",
   "pygments_lexer": "ipython3",
   "version": "3.8.12"
  }
 },
 "nbformat": 4,
 "nbformat_minor": 2
}
