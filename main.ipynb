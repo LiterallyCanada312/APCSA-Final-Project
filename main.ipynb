{
 "cells": [
  {
   "cell_type": "code",
   "execution_count": 2,
   "metadata": {},
   "outputs": [],
   "source": [
    "from ultralytics import YOLO\n",
    "import serial \n",
    "import torch\n",
    "import cv2\n",
    "import os\n",
    "import io"
   ]
  },
  {
   "cell_type": "code",
   "execution_count": 3,
   "metadata": {},
   "outputs": [],
   "source": [
    "model = YOLO(\"best.pt\")"
   ]
  },
  {
   "cell_type": "code",
   "execution_count": null,
   "metadata": {},
   "outputs": [],
   "source": [
    "cap = cv2.VideoCapture(0)\n",
    "cap.set(3, 640)\n",
    "cap.set(4, 480)\n",
    "\n",
    "ser = serial.Serial()\n",
    "ser.baudrate = 9600\n",
    "ser.port = 'COM5'\n",
    "ser.open()\n",
    "\n",
    "while True:\n",
    "    _, img = cap.read() \n",
    "\n",
    "\n",
    "    #computes prediction\n",
    "    results = model(img, verbose=False, conf=0.7)\n",
    "\n",
    "    for r in results:\n",
    "        coords=r.boxes.xyxy\n",
    "        if(coords.size(dim=0) !=0):\n",
    "            #all coordinates are normalized between 0-1\n",
    "            xmid = int((coords[0][0] + coords[0][2])/2)/640.0\n",
    "            if abs(xmid-0.5) < 0.01:\n",
    "                print(\"CENTER\")\n",
    "                ser.write(b'CENTER\\n')\n",
    "            elif xmid + 0.01 > 0.5 or xmid - 0.01 > 0.5:\n",
    "                print(\"RIGHT\")\n",
    "                ser.write(b'LEFT\\n')\n",
    "            elif xmid + 0.01 < 0.5 or xmid - 0.01 < 0.5 :\n",
    "                print(\"LEFT\") \n",
    "                ser.write(b'RIGHT\\n')\n",
    "            ymid = int((coords[0][1] + coords[0][3])/2)/480.0\n",
    "            print(xmid)\n",
    "        else:\n",
    "            print(\"NO TARGETS FOUND\")\n",
    "\n",
    "\n",
    "\n",
    "\n",
    "    cv2.imshow(\"test\",img)\n",
    "    if cv2.waitKey(1) & 0xFF == ord('q'):\n",
    "        break\n",
    "\n",
    "cap.release()\n",
    "cv2.destroyAllWindows()"
   ]
  },
  {
   "cell_type": "code",
   "execution_count": null,
   "metadata": {},
   "outputs": [],
   "source": [
    "model(source=0, conf=0.6,show=True,save=False)"
   ]
  }
 ],
 "metadata": {
  "kernelspec": {
   "display_name": "\"Python/Mu (mu_venv-38-20240310-133533)\"",
   "language": "python",
   "name": "mu_venv-38-20240310-133533"
  },
  "language_info": {
   "codemirror_mode": {
    "name": "ipython",
    "version": 3
   },
   "file_extension": ".py",
   "mimetype": "text/x-python",
   "name": "python",
   "nbconvert_exporter": "python",
   "pygments_lexer": "ipython3",
   "version": "3.8.12"
  }
 },
 "nbformat": 4,
 "nbformat_minor": 2
}
